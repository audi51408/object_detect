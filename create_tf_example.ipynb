{
 "cells": [
  {
   "cell_type": "code",
   "execution_count": 1,
   "metadata": {},
   "outputs": [],
   "source": [
    "import os\n",
    "import glob\n",
    "import pandas as pd\n",
    "import io\n",
    "import xml.etree.ElementTree as ET\n",
    "import argparse\n",
    "from collections import namedtuple\n",
    "from PIL import Image\n",
    "# from object_detection.utils import dataset_util, label_map_util"
   ]
  },
  {
   "cell_type": "code",
   "execution_count": 2,
   "metadata": {},
   "outputs": [],
   "source": [
    "def xml_to_csv(path):\n",
    "    xml_list = []\n",
    "    className = os.listdir(path)[1:]\n",
    "    for i in className:\n",
    "        for xml_file in glob.glob(path +\"/\"+i +'/*.xml'):\n",
    "            tree = ET.parse(xml_file)\n",
    "            root = tree.getroot()\n",
    "            filename = root.find('FileName').text\n",
    "            xmin = int(root.find('DefectBound').find('X1').text)\n",
    "            ymin = int(root.find('DefectBound').find('Y1').text)\n",
    "            xmax = int(root.find('DefectBound').find('X2').text)\n",
    "            ymax = int(root.find('DefectBound').find('Y2').text)\n",
    "            width = str(int(xmax) - int(xmin))\n",
    "            height = str(int(ymax) - int(ymin))\n",
    "            value = (filename,\n",
    "                    width,\n",
    "                    height,\n",
    "                    i,\n",
    "                    xmin,\n",
    "                    ymin,\n",
    "                    xmax,\n",
    "                    ymax,\n",
    "                    )\n",
    "            xml_list.append(value)\n",
    "\n",
    "\n",
    "    column_name = ['filename', 'width', 'height',\n",
    "                'className', 'xmin', 'ymin', 'xmax', 'ymax']\n",
    "    xml_df = pd.DataFrame(xml_list, columns=column_name)\n",
    "    return xml_df"
   ]
  },
  {
   "cell_type": "code",
   "execution_count": 3,
   "metadata": {},
   "outputs": [],
   "source": [
    "def create_tf_example(group, path):\n",
    "    print(os.path.join(path, '{}/{}.bmp'.format(group.object.className.values[0],group.filename)))\n",
    "    with tf.io.gfile.GFile(os.path.join(path, '{}/{}.bmp'.format(group.object.className.values[0],group.filename)), 'rb') as fid:\n",
    "        print(fid)\n",
    "        encoded_jpg = fid.read()\n",
    "    encoded_jpg_io = io.BytesIO(encoded_jpg)\n",
    "    image = Image.open(encoded_jpg_io)\n",
    "    width, height = image.size\n",
    "\n",
    "    filename = group.filename.encode('utf8')\n",
    "    image_format = b'jpg'\n",
    "    xmins = []\n",
    "    xmaxs = []\n",
    "    ymins = []\n",
    "    ymaxs = []\n",
    "    classes_text = []\n",
    "    classes = []\n",
    "\n",
    "    for index, row in group.object.iterrows():\n",
    "        xmins.append(row['xmin'] / width)\n",
    "        xmaxs.append(row['xmax'] / width)\n",
    "        ymins.append(row['ymin'] / height)\n",
    "        ymaxs.append(row['ymax'] / height)\n",
    "        classes_text.append(row['className'].encode('utf8'))\n",
    "        classes.append(class_text_to_int(row['className']))\n",
    "\n",
    "    tf_example = tf.train.Example(features=tf.train.Features(feature={\n",
    "        'image/height': dataset_util.int64_feature(height),\n",
    "        'image/width': dataset_util.int64_feature(width),\n",
    "        'image/filename': dataset_util.bytes_feature(filename),\n",
    "        'image/source_id': dataset_util.bytes_feature(filename),\n",
    "        'image/encoded': dataset_util.bytes_feature(encoded_jpg),\n",
    "        'image/format': dataset_util.bytes_feature(image_format),\n",
    "        'image/object/bbox/xmin': dataset_util.float_list_feature(xmins),\n",
    "        'image/object/bbox/xmax': dataset_util.float_list_feature(xmaxs),\n",
    "        'image/object/bbox/ymin': dataset_util.float_list_feature(ymins),\n",
    "        'image/object/bbox/ymax': dataset_util.float_list_feature(ymaxs),\n",
    "        'image/object/class/text': dataset_util.bytes_list_feature(classes_text),\n",
    "        'image/object/class/label': dataset_util.int64_list_feature(classes),\n",
    "    }))\n",
    "    return tf_example"
   ]
  },
  {
   "cell_type": "code",
   "execution_count": 4,
   "metadata": {},
   "outputs": [],
   "source": [
    "def split(df, group):\n",
    "    data = namedtuple('data', ['filename', 'object'])\n",
    "    gb = df.groupby(group)\n",
    "    return [data(filename, gb.get_group(x)) for filename, x in zip(gb.groups.keys(), gb.groups)]"
   ]
  },
  {
   "cell_type": "code",
   "execution_count": 6,
   "metadata": {},
   "outputs": [
    {
     "name": "stdout",
     "output_type": "stream",
     "text": [
      "東捷科技_20220504_ADC_釋出資料集_origin\\Udev/A114B068AG01001_Dft.bmp\n",
      "<tensorflow.python.platform.gfile.GFile object at 0x000001CAD36B1880>\n"
     ]
    },
    {
     "ename": "NameError",
     "evalue": "name 'class_text_to_int' is not defined",
     "output_type": "error",
     "traceback": [
      "\u001b[1;31m---------------------------------------------------------------------------\u001b[0m",
      "\u001b[1;31mNameError\u001b[0m                                 Traceback (most recent call last)",
      "\u001b[1;32mc:\\Users\\audic\\Desktop\\aa\\create_tf_example.ipynb Cell 6'\u001b[0m in \u001b[0;36m<cell line: 5>\u001b[1;34m()\u001b[0m\n\u001b[0;32m      <a href='vscode-notebook-cell:/c%3A/Users/audic/Desktop/aa/create_tf_example.ipynb#ch0000005?line=3'>4</a>\u001b[0m grouped \u001b[39m=\u001b[39m split(examples, \u001b[39m'\u001b[39m\u001b[39mfilename\u001b[39m\u001b[39m'\u001b[39m)\n\u001b[0;32m      <a href='vscode-notebook-cell:/c%3A/Users/audic/Desktop/aa/create_tf_example.ipynb#ch0000005?line=4'>5</a>\u001b[0m \u001b[39mfor\u001b[39;00m group \u001b[39min\u001b[39;00m grouped:\n\u001b[1;32m----> <a href='vscode-notebook-cell:/c%3A/Users/audic/Desktop/aa/create_tf_example.ipynb#ch0000005?line=5'>6</a>\u001b[0m     tf_example \u001b[39m=\u001b[39m create_tf_example(group, path)\n",
      "\u001b[1;32mc:\\Users\\audic\\Desktop\\aa\\create_tf_example.ipynb Cell 3'\u001b[0m in \u001b[0;36mcreate_tf_example\u001b[1;34m(group, path)\u001b[0m\n\u001b[0;32m     <a href='vscode-notebook-cell:/c%3A/Users/audic/Desktop/aa/create_tf_example.ipynb#ch0000002?line=23'>24</a>\u001b[0m     ymaxs\u001b[39m.\u001b[39mappend(row[\u001b[39m'\u001b[39m\u001b[39mymax\u001b[39m\u001b[39m'\u001b[39m] \u001b[39m/\u001b[39m height)\n\u001b[0;32m     <a href='vscode-notebook-cell:/c%3A/Users/audic/Desktop/aa/create_tf_example.ipynb#ch0000002?line=24'>25</a>\u001b[0m     classes_text\u001b[39m.\u001b[39mappend(row[\u001b[39m'\u001b[39m\u001b[39mclassName\u001b[39m\u001b[39m'\u001b[39m]\u001b[39m.\u001b[39mencode(\u001b[39m'\u001b[39m\u001b[39mutf8\u001b[39m\u001b[39m'\u001b[39m))\n\u001b[1;32m---> <a href='vscode-notebook-cell:/c%3A/Users/audic/Desktop/aa/create_tf_example.ipynb#ch0000002?line=25'>26</a>\u001b[0m     classes\u001b[39m.\u001b[39mappend(class_text_to_int(row[\u001b[39m'\u001b[39m\u001b[39mclassName\u001b[39m\u001b[39m'\u001b[39m]))\n\u001b[0;32m     <a href='vscode-notebook-cell:/c%3A/Users/audic/Desktop/aa/create_tf_example.ipynb#ch0000002?line=27'>28</a>\u001b[0m tf_example \u001b[39m=\u001b[39m tf\u001b[39m.\u001b[39mtrain\u001b[39m.\u001b[39mExample(features\u001b[39m=\u001b[39mtf\u001b[39m.\u001b[39mtrain\u001b[39m.\u001b[39mFeatures(feature\u001b[39m=\u001b[39m{\n\u001b[0;32m     <a href='vscode-notebook-cell:/c%3A/Users/audic/Desktop/aa/create_tf_example.ipynb#ch0000002?line=28'>29</a>\u001b[0m     \u001b[39m'\u001b[39m\u001b[39mimage/height\u001b[39m\u001b[39m'\u001b[39m: dataset_util\u001b[39m.\u001b[39mint64_feature(height),\n\u001b[0;32m     <a href='vscode-notebook-cell:/c%3A/Users/audic/Desktop/aa/create_tf_example.ipynb#ch0000002?line=29'>30</a>\u001b[0m     \u001b[39m'\u001b[39m\u001b[39mimage/width\u001b[39m\u001b[39m'\u001b[39m: dataset_util\u001b[39m.\u001b[39mint64_feature(width),\n\u001b[1;32m   (...)\u001b[0m\n\u001b[0;32m     <a href='vscode-notebook-cell:/c%3A/Users/audic/Desktop/aa/create_tf_example.ipynb#ch0000002?line=39'>40</a>\u001b[0m     \u001b[39m'\u001b[39m\u001b[39mimage/object/class/label\u001b[39m\u001b[39m'\u001b[39m: dataset_util\u001b[39m.\u001b[39mint64_list_feature(classes),\n\u001b[0;32m     <a href='vscode-notebook-cell:/c%3A/Users/audic/Desktop/aa/create_tf_example.ipynb#ch0000002?line=40'>41</a>\u001b[0m }))\n\u001b[0;32m     <a href='vscode-notebook-cell:/c%3A/Users/audic/Desktop/aa/create_tf_example.ipynb#ch0000002?line=41'>42</a>\u001b[0m \u001b[39mreturn\u001b[39;00m tf_example\n",
      "\u001b[1;31mNameError\u001b[0m: name 'class_text_to_int' is not defined"
     ]
    }
   ],
   "source": [
    "import tensorflow as tf\n",
    "path = \"東捷科技_20220504_ADC_釋出資料集_origin\"\n",
    "examples = xml_to_csv(path)\n",
    "grouped = split(examples, 'filename')\n",
    "for group in grouped:\n",
    "    tf_example = create_tf_example(group, path)\n"
   ]
  },
  {
   "cell_type": "code",
   "execution_count": null,
   "metadata": {},
   "outputs": [],
   "source": []
  }
 ],
 "metadata": {
  "interpreter": {
   "hash": "f76a1f6280fa65524e405abff2fa4bff2bd94b9ec5f40598e310a217e40537f3"
  },
  "kernelspec": {
   "display_name": "Python 3.9.12 ('base')",
   "language": "python",
   "name": "python3"
  },
  "language_info": {
   "codemirror_mode": {
    "name": "ipython",
    "version": 3
   },
   "file_extension": ".py",
   "mimetype": "text/x-python",
   "name": "python",
   "nbconvert_exporter": "python",
   "pygments_lexer": "ipython3",
   "version": "3.9.12"
  },
  "orig_nbformat": 4
 },
 "nbformat": 4,
 "nbformat_minor": 2
}
